{
 "cells": [
  {
   "cell_type": "code",
   "execution_count": null,
   "metadata": {},
   "outputs": [],
   "source": [
    "import pandas as pd\n",
    "import numpy as np\n",
    "from transformers import AutoModelForSeq2SeqLM, AutoTokenizer\n",
    "\n",
    "kjv = pd.read_csv('C:\\\\Users\\\\alphatshibangu\\\\Desktop\\\\scripture-app\\\\Biblle Corpus\\\\t_kjv.csv')\n",
    "bcp47 = pd.read_csv('C:\\\\Users\\\\alphatshibangu\\\\Desktop\\\\scripture-app\\\\Biblle Corpus\\\\BCP-47.csv')\n",
    "\n",
    "def kjv_verse_finder(search_term: str, lang=\"eng_Latn\"):\n",
    "    lang = bcp47[bcp47['l'].str.contains(lang, case=False)]\n",
    "    lang_code = lang['c'].loc[lang.index[0]]\n",
    "\n",
    "    search_term = kjv[kjv['t'].str.contains(search_term, case=False)]\n",
    "    random_verse_selector = np.random.randint(1, size=None)\n",
    "    verse_location = (f\"{search_term['b'].iloc[random_verse_selector]} {search_term['c'].iloc[random_verse_selector]}:{search_term['v'].iloc[random_verse_selector]}\")\n",
    "    verse_text = search_term['t'].iloc[random_verse_selector]\n",
    "\n",
    "    tokenizer = AutoTokenizer.from_pretrained(\"facebook/nllb-200-distilled-600M\")\n",
    "    model = AutoModelForSeq2SeqLM.from_pretrained(\"facebook/nllb-200-distilled-600M\")\n",
    "    \n",
    "    article = verse_text\n",
    "    inputs = tokenizer(article, return_tensors=\"pt\")\n",
    "    \n",
    "    translated_tokens = model.generate(\n",
    "        **inputs, forced_bos_token_id=tokenizer.lang_code_to_id[lang_code], max_length=200\n",
    "        )\n",
    "    \n",
    "    text = (\"text\", verse_text)\n",
    "    reference = (\"reference\", verse_location)\n",
    "    translated_text = (\"translation\", tokenizer.batch_decode(translated_tokens, skip_special_tokens=True)[0])\n",
    "    \n",
    "    json_object = dict([text, reference, translated_text])\n",
    "\n",
    "    return json_object\n",
    "\n",
    "kjv_verse_finder(\"Jesus\", \"twi\")"
   ]
  },
  {
   "cell_type": "code",
   "execution_count": null,
   "metadata": {},
   "outputs": [],
   "source": [
    "# Requesting Data from API \n",
    "import requests \n",
    "\n",
    "search_term = input()\n",
    "friendly_search_term = search_term.replace(' ','+')\n",
    "language = input()\n",
    "response = requests.get(f\"http://127.0.0.1:8000/verse?search_term={friendly_search_term}&lang={language}\")\n",
    "response.text"
   ]
  },
  {
   "cell_type": "code",
   "execution_count": null,
   "metadata": {},
   "outputs": [],
   "source": [
    "def x(): \n",
    "    return 1, 2, 3, 4\n",
    "a, b = x() \n",
    "print(a)\t\t# 1 2 3 4"
   ]
  }
 ],
 "metadata": {
  "kernelspec": {
   "display_name": "Python 3.10.8 64-bit",
   "language": "python",
   "name": "python3"
  },
  "language_info": {
   "codemirror_mode": {
    "name": "ipython",
    "version": 3
   },
   "file_extension": ".py",
   "mimetype": "text/x-python",
   "name": "python",
   "nbconvert_exporter": "python",
   "pygments_lexer": "ipython3",
   "version": "3.10.8"
  },
  "orig_nbformat": 4,
  "vscode": {
   "interpreter": {
    "hash": "1b3e85edd1abe7f3b0e9c0992e7902bfe1f006f726cd0cffe5a49c24a4e2fadc"
   }
  }
 },
 "nbformat": 4,
 "nbformat_minor": 2
}
